{
 "cells": [
  {
   "cell_type": "markdown",
   "metadata": {},
   "source": [
    "# Life Expectancy and Schooling\n",
    "### An Analysis of Common Regression Methods Using WHO Data\n",
    "![title](map.png)"
   ]
  },
  {
   "cell_type": "markdown",
   "metadata": {},
   "source": [
    "### Introduction:\n",
    "\n",
    "Development for accurate prediction models are at high demand. When dealing with continuous independent and dependent variables, models of regression are required.  However, there is a vast amount of regression techniques.  In this project, different forms of regression are analyzed.  Different types of errors are used to infer the best regression technique for this set of data."
   ]
  },
  {
   "cell_type": "code",
   "execution_count": 1,
   "metadata": {},
   "outputs": [],
   "source": [
    " reg_models=[\n",
    "'Linear Regression'\n",
    ",'Polynomial Regression'\n",
    ",'SVR'\n",
    ",'Ridge Regression'\n",
    ",'Lasso'\n",
    ",'Nearest Neighbors'\n",
    ",'Random Forest'\n",
    ",'Guassian Process Regression'\n",
    "]"
   ]
  },
  {
   "cell_type": "markdown",
   "metadata": {},
   "source": [
    "## Loading All Packages:"
   ]
  },
  {
   "cell_type": "code",
   "execution_count": 21,
   "metadata": {},
   "outputs": [],
   "source": [
    "from sklearn.linear_model import LogisticRegressionCV, LinearRegression, Ridge, Lasso\n",
    "from sklearn.gaussian_process import GaussianProcessRegressor\n",
    "from sklearn.neighbors import KNeighborsRegressor\n",
    "from sklearn.ensemble import RandomForestRegressor\n",
    "from sklearn.svm import SVR\n",
    "#Sklearn Processing Packages:\n",
    "from sklearn.model_selection import GridSearchCV, train_test_split\n",
    "from sklearn.metrics import  mean_squared_error, mean_absolute_error, r2_score\n",
    "from sklearn import preprocessing\n",
    "from sklearn.preprocessing import LabelEncoder\n",
    "from sklearn.preprocessing import normalize\n",
    "\n",
    "#Data Loading and Processing Packages:\n",
    "import pandas as pd\n",
    "import numpy as np\n",
    "\n",
    "\n",
    "#Data Visualization Packages:\n",
    "import matplotlib.pyplot as plt\n",
    "import seaborn as sns\n",
    "from matplotlib import cm as cm"
   ]
  },
  {
   "cell_type": "markdown",
   "metadata": {},
   "source": [
    "## Importing and Preparing Data"
   ]
  },
  {
   "cell_type": "code",
   "execution_count": 68,
   "metadata": {},
   "outputs": [
    {
     "data": {
      "text/html": [
       "<div>\n",
       "<style scoped>\n",
       "    .dataframe tbody tr th:only-of-type {\n",
       "        vertical-align: middle;\n",
       "    }\n",
       "\n",
       "    .dataframe tbody tr th {\n",
       "        vertical-align: top;\n",
       "    }\n",
       "\n",
       "    .dataframe thead th {\n",
       "        text-align: right;\n",
       "    }\n",
       "</style>\n",
       "<table border=\"1\" class=\"dataframe\">\n",
       "  <thead>\n",
       "    <tr style=\"text-align: right;\">\n",
       "      <th></th>\n",
       "      <th>Population</th>\n",
       "      <th>Schooling</th>\n",
       "      <th>Life Expectancy</th>\n",
       "    </tr>\n",
       "  </thead>\n",
       "  <tbody>\n",
       "    <tr>\n",
       "      <th>Afghanistan</th>\n",
       "      <td>0.020677</td>\n",
       "      <td>0.055869</td>\n",
       "      <td>0.070198</td>\n",
       "    </tr>\n",
       "    <tr>\n",
       "      <th>Albania</th>\n",
       "      <td>0.001445</td>\n",
       "      <td>0.082570</td>\n",
       "      <td>0.090659</td>\n",
       "    </tr>\n",
       "    <tr>\n",
       "      <th>Algeria</th>\n",
       "      <td>0.044889</td>\n",
       "      <td>0.086482</td>\n",
       "      <td>0.088805</td>\n",
       "    </tr>\n",
       "    <tr>\n",
       "      <th>Angola</th>\n",
       "      <td>0.021039</td>\n",
       "      <td>0.054721</td>\n",
       "      <td>0.059130</td>\n",
       "    </tr>\n",
       "    <tr>\n",
       "      <th>Argentina</th>\n",
       "      <td>0.041719</td>\n",
       "      <td>0.112291</td>\n",
       "      <td>0.090659</td>\n",
       "    </tr>\n",
       "    <tr>\n",
       "      <th>Armenia</th>\n",
       "      <td>0.002105</td>\n",
       "      <td>0.080189</td>\n",
       "      <td>0.088541</td>\n",
       "    </tr>\n",
       "    <tr>\n",
       "      <th>Australia</th>\n",
       "      <td>0.009511</td>\n",
       "      <td>0.136313</td>\n",
       "      <td>0.098689</td>\n",
       "    </tr>\n",
       "    <tr>\n",
       "      <th>Austria</th>\n",
       "      <td>0.013425</td>\n",
       "      <td>0.104680</td>\n",
       "      <td>0.098289</td>\n",
       "    </tr>\n",
       "    <tr>\n",
       "      <th>Azerbaijan</th>\n",
       "      <td>0.004473</td>\n",
       "      <td>0.077213</td>\n",
       "      <td>0.085322</td>\n",
       "    </tr>\n",
       "    <tr>\n",
       "      <th>Bangladesh</th>\n",
       "      <td>0.089126</td>\n",
       "      <td>0.059143</td>\n",
       "      <td>0.083595</td>\n",
       "    </tr>\n",
       "  </tbody>\n",
       "</table>\n",
       "</div>"
      ],
      "text/plain": [
       "             Population  Schooling  Life Expectancy\n",
       "Afghanistan    0.020677   0.055869         0.070198\n",
       "Albania        0.001445   0.082570         0.090659\n",
       "Algeria        0.044889   0.086482         0.088805\n",
       "Angola         0.021039   0.054721         0.059130\n",
       "Argentina      0.041719   0.112291         0.090659\n",
       "Armenia        0.002105   0.080189         0.088541\n",
       "Australia      0.009511   0.136313         0.098689\n",
       "Austria        0.013425   0.104680         0.098289\n",
       "Azerbaijan     0.004473   0.077213         0.085322\n",
       "Bangladesh     0.089126   0.059143         0.083595"
      ]
     },
     "execution_count": 68,
     "metadata": {},
     "output_type": "execute_result"
    }
   ],
   "source": [
    "   #Loading CSV File\n",
    "df=pd.read_csv(\"life_exp.csv\", sep=',')\n",
    "\n",
    "   #Choosing our Features\n",
    "df=df[['Country','Population','Schooling','Life expectancy ']]\n",
    "\n",
    "   #Taking the mean values for each feature by country\n",
    "df=df.groupby(['Country'])['Population','Schooling','Life expectancy '].mean()\n",
    "   #Geting rid of NAN values\n",
    "df = df[np.isfinite(df['Population'])]\n",
    "df = df[np.isfinite(df['Schooling'])]\n",
    "df = df[np.isfinite(df['Life expectancy '])]\n",
    "countries=list(df.index)\n",
    "   #Normalization of data\n",
    "df_norm = pd.DataFrame(normalize(df[['Population','Schooling', 'Life expectancy ']],axis=0))\n",
    "df_norm.columns=['Population','Schooling','Life Expectancy']\n",
    "df_norm.index=countries\n",
    "\n",
    "\n",
    "   #Printing Result\n",
    "df=df_norm\n",
    "df.head(10)"
   ]
  },
  {
   "cell_type": "markdown",
   "metadata": {},
   "source": [
    "### Visualization"
   ]
  },
  {
   "cell_type": "code",
   "execution_count": 42,
   "metadata": {},
   "outputs": [
    {
     "data": {
      "text/plain": [
       "<seaborn.axisgrid.PairGrid at 0x1a1aede400>"
      ]
     },
     "execution_count": 42,
     "metadata": {},
     "output_type": "execute_result"
    },
    {
     "data": {
      "image/png": "[encoded data removed]",
      "text/plain": [
       "<Figure size 540x540 with 12 Axes>"
      ]
     },
     "metadata": {
      "needs_background": "light"
     },
     "output_type": "display_data"
    }
   ],
   "source": [
    "sns.pairplot(df)"
   ]
  },
  {
   "cell_type": "code",
   "execution_count": null,
   "metadata": {},
   "outputs": [],
   "source": []
  },
  {
   "cell_type": "markdown",
   "metadata": {},
   "source": [
    "## Test and Train Data"
   ]
  },
  {
   "cell_type": "code",
   "execution_count": 69,
   "metadata": {},
   "outputs": [
    {
     "name": "stdout",
     "output_type": "stream",
     "text": [
      "(121, 2) (121,)\n",
      "(22, 2) (22,)\n"
     ]
    }
   ],
   "source": [
    "# STEP 1: split X and y into training and testing sets\n",
    "X=df.drop(['Life Expectancy'],axis=1)\n",
    "y=df['Life Expectancy']\n",
    "\n",
    "X_train, X_test, y_train, y_test=train_test_split(X,y, test_size=.15, random_state=4)\n",
    "print(X_train.shape,y_train.shape)\n",
    "print(X_test.shape,y_test.shape)"
   ]
  },
  {
   "cell_type": "markdown",
   "metadata": {},
   "source": [
    "# Regression Techniques"
   ]
  },
  {
   "cell_type": "markdown",
   "metadata": {},
   "source": [
    "## Linear Regression"
   ]
  },
  {
   "cell_type": "markdown",
   "metadata": {},
   "source": [
    "### Hyper-parameter optimizer:\n",
    "\n",
    "No Hyper-parameters to optimize"
   ]
  },
  {
   "cell_type": "markdown",
   "metadata": {},
   "source": [
    "### Error Calculations: MSE, MAE, Huber Loss, Log Cosh Loss, R^2"
   ]
  },
  {
   "cell_type": "code",
   "execution_count": 70,
   "metadata": {},
   "outputs": [
    {
     "data": {
      "text/html": [
       "<div>\n",
       "<style scoped>\n",
       "    .dataframe tbody tr th:only-of-type {\n",
       "        vertical-align: middle;\n",
       "    }\n",
       "\n",
       "    .dataframe tbody tr th {\n",
       "        vertical-align: top;\n",
       "    }\n",
       "\n",
       "    .dataframe thead th {\n",
       "        text-align: right;\n",
       "    }\n",
       "</style>\n",
       "<table border=\"1\" class=\"dataframe\">\n",
       "  <thead>\n",
       "    <tr style=\"text-align: right;\">\n",
       "      <th></th>\n",
       "      <th>Linear</th>\n",
       "    </tr>\n",
       "  </thead>\n",
       "  <tbody>\n",
       "    <tr>\n",
       "      <th>MSE</th>\n",
       "      <td>0.000051</td>\n",
       "    </tr>\n",
       "    <tr>\n",
       "      <th>MAE</th>\n",
       "      <td>0.005819</td>\n",
       "    </tr>\n",
       "    <tr>\n",
       "      <th>HUBER</th>\n",
       "      <td>0.000561</td>\n",
       "    </tr>\n",
       "    <tr>\n",
       "      <th>LOGCOSH</th>\n",
       "      <td>0.000561</td>\n",
       "    </tr>\n",
       "    <tr>\n",
       "      <th>R2</th>\n",
       "      <td>0.655919</td>\n",
       "    </tr>\n",
       "  </tbody>\n",
       "</table>\n",
       "</div>"
      ],
      "text/plain": [
       "           Linear\n",
       "MSE      0.000051\n",
       "MAE      0.005819\n",
       "HUBER    0.000561\n",
       "LOGCOSH  0.000561\n",
       "R2       0.655919"
      ]
     },
     "execution_count": 70,
     "metadata": {},
     "output_type": "execute_result"
    }
   ],
   "source": [
    "clf = LinearRegression()\n",
    "\n",
    "param_grid = {'fit_intercept':[True,False], 'normalize':[True,False]}\n",
    "clf = GridSearchCV(clf, param_grid)\n",
    "clf.fit(X_train, y_train)\n",
    "y_pred = clf.predict(X_test)\n",
    "\n",
    "#Huber Loss and #Log Cosh Loss\n",
    "def huber(true, pred, delta):\n",
    "    loss = np.where(np.abs(true-pred) < delta , 0.5*((true-pred)**2), delta*np.abs(true - pred) - 0.5*(delta**2))\n",
    "    return np.sum(loss)\n",
    "\n",
    "def logcosh(true, pred):\n",
    "    loss = np.log(np.cosh(pred - true))\n",
    "    return np.sum(loss)\n",
    "\n",
    "linr_score=pd.DataFrame({'Linear': [mean_squared_error(y_pred, y_test)\n",
    "          , mean_absolute_error(y_pred, y_test)\n",
    "          , huber(y_pred, y_test,1)\n",
    "          , logcosh(y_pred, y_test)\n",
    "          , r2_score(y_pred, y_test)]},index=['MSE','MAE', 'HUBER', 'LOGCOSH','R2'])\n",
    "linr_score"
   ]
  },
  {
   "cell_type": "markdown",
   "metadata": {},
   "source": [
    "___________________________"
   ]
  },
  {
   "cell_type": "markdown",
   "metadata": {},
   "source": [
    "___________________________"
   ]
  },
  {
   "cell_type": "markdown",
   "metadata": {},
   "source": [
    "## Standard Vector Regression\n"
   ]
  },
  {
   "cell_type": "markdown",
   "metadata": {},
   "source": [
    "### Hyper-parameter optimizer:\n",
    "\n",
    "kernel : Specifies the kernel type to be used in the algorithm. It must be one of ‘linear’, ‘poly’, ‘rbf’, ‘sigmoid’, ‘precomputed’ or a callable. If none is given, ‘rbf’ will be used. If a callable is given it is used to precompute the kernel matrix.\n",
    "\n",
    "degree : Degree of the polynomial kernel function (‘poly’). Ignored by all other kernels.\n",
    "\n"
   ]
  },
  {
   "cell_type": "markdown",
   "metadata": {},
   "source": [
    "### Error Calculations: MSE, MAE, Huber Loss, Log Cosh Loss, R^2"
   ]
  },
  {
   "cell_type": "code",
   "execution_count": 71,
   "metadata": {},
   "outputs": [
    {
     "data": {
      "text/html": [
       "<div>\n",
       "<style scoped>\n",
       "    .dataframe tbody tr th:only-of-type {\n",
       "        vertical-align: middle;\n",
       "    }\n",
       "\n",
       "    .dataframe tbody tr th {\n",
       "        vertical-align: top;\n",
       "    }\n",
       "\n",
       "    .dataframe thead th {\n",
       "        text-align: right;\n",
       "    }\n",
       "</style>\n",
       "<table border=\"1\" class=\"dataframe\">\n",
       "  <thead>\n",
       "    <tr style=\"text-align: right;\">\n",
       "      <th></th>\n",
       "      <th>Standard Vector</th>\n",
       "    </tr>\n",
       "  </thead>\n",
       "  <tbody>\n",
       "    <tr>\n",
       "      <th>MSE</th>\n",
       "      <td>1.569381e-04</td>\n",
       "    </tr>\n",
       "    <tr>\n",
       "      <th>MAE</th>\n",
       "      <td>1.146103e-02</td>\n",
       "    </tr>\n",
       "    <tr>\n",
       "      <th>HUBER</th>\n",
       "      <td>1.726319e-03</td>\n",
       "    </tr>\n",
       "    <tr>\n",
       "      <th>LOGCOSH</th>\n",
       "      <td>1.726247e-03</td>\n",
       "    </tr>\n",
       "    <tr>\n",
       "      <th>R2</th>\n",
       "      <td>-2.037173e+29</td>\n",
       "    </tr>\n",
       "  </tbody>\n",
       "</table>\n",
       "</div>"
      ],
      "text/plain": [
       "         Standard Vector\n",
       "MSE         1.569381e-04\n",
       "MAE         1.146103e-02\n",
       "HUBER       1.726319e-03\n",
       "LOGCOSH     1.726247e-03\n",
       "R2         -2.037173e+29"
      ]
     },
     "execution_count": 71,
     "metadata": {},
     "output_type": "execute_result"
    }
   ],
   "source": [
    "clf = SVR()\n",
    "\n",
    "#For High Processing Computers:\n",
    "#param_grid = {'degree': [2,3], 'kernel': ['rbf','poly']}\n",
    "#clf = GridSearchCV(clf, param_grid)\n",
    "\n",
    "clf.fit(X_train, y_train)\n",
    "y_pred = clf.predict(X_test)\n",
    "\n",
    "#Huber Loss and #Log Cosh Loss\n",
    "def huber(true, pred, delta):\n",
    "    loss = np.where(np.abs(true-pred) < delta , 0.5*((true-pred)**2), delta*np.abs(true - pred) - 0.5*(delta**2))\n",
    "    return np.sum(loss)\n",
    "\n",
    "def logcosh(true, pred):\n",
    "    loss = np.log(np.cosh(pred - true))\n",
    "    return np.sum(loss)\n",
    "\n",
    "svr_score=pd.DataFrame({'Standard Vector': [mean_squared_error(y_pred, y_test)\n",
    "          , mean_absolute_error(y_pred, y_test)\n",
    "          , huber(y_pred, y_test,1)\n",
    "          , logcosh(y_pred, y_test)\n",
    "          , r2_score(y_pred, y_test)]},index=['MSE','MAE', 'HUBER', 'LOGCOSH','R2'])\n",
    "svr_score"
   ]
  },
  {
   "cell_type": "markdown",
   "metadata": {},
   "source": [
    "## Ridge Regression"
   ]
  },
  {
   "cell_type": "markdown",
   "metadata": {},
   "source": [
    "### Hyper-parameter optimizer:\n",
    "\n",
    "Alpha"
   ]
  },
  {
   "cell_type": "markdown",
   "metadata": {},
   "source": [
    "### Error Calculations: MSE, MAE, Huber Loss, Log Cosh Loss, R^2"
   ]
  },
  {
   "cell_type": "code",
   "execution_count": 72,
   "metadata": {},
   "outputs": [
    {
     "data": {
      "text/html": [
       "<div>\n",
       "<style scoped>\n",
       "    .dataframe tbody tr th:only-of-type {\n",
       "        vertical-align: middle;\n",
       "    }\n",
       "\n",
       "    .dataframe tbody tr th {\n",
       "        vertical-align: top;\n",
       "    }\n",
       "\n",
       "    .dataframe thead th {\n",
       "        text-align: right;\n",
       "    }\n",
       "</style>\n",
       "<table border=\"1\" class=\"dataframe\">\n",
       "  <thead>\n",
       "    <tr style=\"text-align: right;\">\n",
       "      <th></th>\n",
       "      <th>Ridge</th>\n",
       "    </tr>\n",
       "  </thead>\n",
       "  <tbody>\n",
       "    <tr>\n",
       "      <th>MSE</th>\n",
       "      <td>0.000079</td>\n",
       "    </tr>\n",
       "    <tr>\n",
       "      <th>MAE</th>\n",
       "      <td>0.007362</td>\n",
       "    </tr>\n",
       "    <tr>\n",
       "      <th>HUBER</th>\n",
       "      <td>0.000866</td>\n",
       "    </tr>\n",
       "    <tr>\n",
       "      <th>LOGCOSH</th>\n",
       "      <td>0.000866</td>\n",
       "    </tr>\n",
       "    <tr>\n",
       "      <th>R2</th>\n",
       "      <td>-3.634252</td>\n",
       "    </tr>\n",
       "  </tbody>\n",
       "</table>\n",
       "</div>"
      ],
      "text/plain": [
       "            Ridge\n",
       "MSE      0.000079\n",
       "MAE      0.007362\n",
       "HUBER    0.000866\n",
       "LOGCOSH  0.000866\n",
       "R2      -3.634252"
      ]
     },
     "execution_count": 72,
     "metadata": {},
     "output_type": "execute_result"
    }
   ],
   "source": [
    "clf = Ridge()\n",
    "\n",
    "param_grid = {'alpha': [.1,.2,.3,.5,.75,.9]}\n",
    "\n",
    "clf = GridSearchCV(clf, param_grid)\n",
    "\n",
    "clf.fit(X_train, y_train)\n",
    "y_pred = clf.predict(X_test)\n",
    "#Huber Loss and #Log Cosh Loss\n",
    "def huber(true, pred, delta):\n",
    "    loss = np.where(np.abs(true-pred) < delta , 0.5*((true-pred)**2), delta*np.abs(true - pred) - 0.5*(delta**2))\n",
    "    return np.sum(loss)\n",
    "\n",
    "def logcosh(true, pred):\n",
    "    loss = np.log(np.cosh(pred - true))\n",
    "    return np.sum(loss)\n",
    "\n",
    "ridge_score=pd.DataFrame({'Ridge': [mean_squared_error(y_pred, y_test)\n",
    "          , mean_absolute_error(y_pred, y_test)\n",
    "          , huber(y_pred, y_test,1)\n",
    "          , logcosh(y_pred, y_test)\n",
    "          , r2_score(y_pred, y_test)]},index=['MSE','MAE', 'HUBER', 'LOGCOSH','R2'])\n",
    "ridge_score"
   ]
  },
  {
   "cell_type": "markdown",
   "metadata": {},
   "source": [
    "## Lasso Regression\n"
   ]
  },
  {
   "cell_type": "markdown",
   "metadata": {},
   "source": [
    "### Hyper-parameter optimizer:\n",
    "\n",
    "Alpha"
   ]
  },
  {
   "cell_type": "markdown",
   "metadata": {},
   "source": [
    "### Error Calculations: MSE, MAE, Huber Loss, Log Cosh Loss, R^2"
   ]
  },
  {
   "cell_type": "code",
   "execution_count": 73,
   "metadata": {},
   "outputs": [
    {
     "data": {
      "text/html": [
       "<div>\n",
       "<style scoped>\n",
       "    .dataframe tbody tr th:only-of-type {\n",
       "        vertical-align: middle;\n",
       "    }\n",
       "\n",
       "    .dataframe tbody tr th {\n",
       "        vertical-align: top;\n",
       "    }\n",
       "\n",
       "    .dataframe thead th {\n",
       "        text-align: right;\n",
       "    }\n",
       "</style>\n",
       "<table border=\"1\" class=\"dataframe\">\n",
       "  <thead>\n",
       "    <tr style=\"text-align: right;\">\n",
       "      <th></th>\n",
       "      <th>Lasso</th>\n",
       "    </tr>\n",
       "  </thead>\n",
       "  <tbody>\n",
       "    <tr>\n",
       "      <th>MSE</th>\n",
       "      <td>0.000148</td>\n",
       "    </tr>\n",
       "    <tr>\n",
       "      <th>MAE</th>\n",
       "      <td>0.010451</td>\n",
       "    </tr>\n",
       "    <tr>\n",
       "      <th>HUBER</th>\n",
       "      <td>0.001628</td>\n",
       "    </tr>\n",
       "    <tr>\n",
       "      <th>LOGCOSH</th>\n",
       "      <td>0.001628</td>\n",
       "    </tr>\n",
       "    <tr>\n",
       "      <th>R2</th>\n",
       "      <td>0.000000</td>\n",
       "    </tr>\n",
       "  </tbody>\n",
       "</table>\n",
       "</div>"
      ],
      "text/plain": [
       "            Lasso\n",
       "MSE      0.000148\n",
       "MAE      0.010451\n",
       "HUBER    0.001628\n",
       "LOGCOSH  0.001628\n",
       "R2       0.000000"
      ]
     },
     "execution_count": 73,
     "metadata": {},
     "output_type": "execute_result"
    }
   ],
   "source": [
    "clf = Lasso()\n",
    "\n",
    "param_grid = {'alpha': [.05,.1,.15,.2,.3,.4,.5]}\n",
    "\n",
    "clf = GridSearchCV(clf, param_grid)\n",
    "\n",
    "clf.fit(X_train, y_train)\n",
    "y_pred = clf.predict(X_test)\n",
    "#Huber Loss and #Log Cosh Loss\n",
    "def huber(true, pred, delta):\n",
    "    loss = np.where(np.abs(true-pred) < delta , 0.5*((true-pred)**2), delta*np.abs(true - pred) - 0.5*(delta**2))\n",
    "    return np.sum(loss)\n",
    "\n",
    "def logcosh(true, pred):\n",
    "    loss = np.log(np.cosh(pred - true))\n",
    "    return np.sum(loss)\n",
    "\n",
    "lasso_score=pd.DataFrame({'Lasso': [mean_squared_error(y_pred, y_test)\n",
    "          , mean_absolute_error(y_pred, y_test)\n",
    "          , huber(y_pred, y_test,1)\n",
    "          , logcosh(y_pred, y_test)\n",
    "          , r2_score(y_pred, y_test)]},index=['MSE','MAE', 'HUBER', 'LOGCOSH','R2'])\n",
    "lasso_score"
   ]
  },
  {
   "cell_type": "markdown",
   "metadata": {},
   "source": [
    "## Nearest Neighbors\n"
   ]
  },
  {
   "cell_type": "markdown",
   "metadata": {},
   "source": [
    "### Hyper-parameter optimizer:\n",
    "\n",
    " - n_neighbors:  This is the number of neighbors you would like to use in your calculations. \n",
    " - algorithm: There are different types of algorithmms.\n",
    " - weights: When summing the distance, you may want different weights for how close or far a distant neighbor may be. In some situations, uniform is not the best.\n",
    " - p:  This is a numeric representation of different distance metrics.  Usually, euclidean would suffice.\n",
    "\n"
   ]
  },
  {
   "cell_type": "markdown",
   "metadata": {},
   "source": [
    "### Error Calculations: MSE, MAE, Huber Loss, Log Cosh Loss, R^2"
   ]
  },
  {
   "cell_type": "code",
   "execution_count": 74,
   "metadata": {},
   "outputs": [
    {
     "data": {
      "text/html": [
       "<div>\n",
       "<style scoped>\n",
       "    .dataframe tbody tr th:only-of-type {\n",
       "        vertical-align: middle;\n",
       "    }\n",
       "\n",
       "    .dataframe tbody tr th {\n",
       "        vertical-align: top;\n",
       "    }\n",
       "\n",
       "    .dataframe thead th {\n",
       "        text-align: right;\n",
       "    }\n",
       "</style>\n",
       "<table border=\"1\" class=\"dataframe\">\n",
       "  <thead>\n",
       "    <tr style=\"text-align: right;\">\n",
       "      <th></th>\n",
       "      <th>K Nearest</th>\n",
       "    </tr>\n",
       "  </thead>\n",
       "  <tbody>\n",
       "    <tr>\n",
       "      <th>MSE</th>\n",
       "      <td>0.000054</td>\n",
       "    </tr>\n",
       "    <tr>\n",
       "      <th>MAE</th>\n",
       "      <td>0.005170</td>\n",
       "    </tr>\n",
       "    <tr>\n",
       "      <th>HUBER</th>\n",
       "      <td>0.000592</td>\n",
       "    </tr>\n",
       "    <tr>\n",
       "      <th>LOGCOSH</th>\n",
       "      <td>0.000592</td>\n",
       "    </tr>\n",
       "    <tr>\n",
       "      <th>R2</th>\n",
       "      <td>0.486203</td>\n",
       "    </tr>\n",
       "  </tbody>\n",
       "</table>\n",
       "</div>"
      ],
      "text/plain": [
       "         K Nearest\n",
       "MSE       0.000054\n",
       "MAE       0.005170\n",
       "HUBER     0.000592\n",
       "LOGCOSH   0.000592\n",
       "R2        0.486203"
      ]
     },
     "execution_count": 74,
     "metadata": {},
     "output_type": "execute_result"
    }
   ],
   "source": [
    "clf = KNeighborsRegressor()\n",
    "\n",
    "param_grid = {'n_neighbors': range(1,20), 'algorithm': ['auto','ball_tree','kd_tree', 'brute'], 'weights': ['uniform', 'distance'],'p': range(1,5)}\n",
    "\n",
    "clf = GridSearchCV(clf, param_grid)\n",
    "\n",
    "clf.fit(X_train, y_train)\n",
    "y_pred = clf.predict(X_test)\n",
    "#Huber Loss and #Log Cosh Loss\n",
    "def huber(true, pred, delta):\n",
    "    loss = np.where(np.abs(true-pred) < delta , 0.5*((true-pred)**2), delta*np.abs(true - pred) - 0.5*(delta**2))\n",
    "    return np.sum(loss)\n",
    "\n",
    "def logcosh(true, pred):\n",
    "    loss = np.log(np.cosh(pred - true))\n",
    "    return np.sum(loss)\n",
    "\n",
    "nnr_score=pd.DataFrame({'K Nearest': [mean_squared_error(y_pred, y_test)\n",
    "          , mean_absolute_error(y_pred, y_test)\n",
    "          , huber(y_pred, y_test,1)\n",
    "          , logcosh(y_pred, y_test)\n",
    "          , r2_score(y_pred, y_test)]},index=['MSE','MAE', 'HUBER', 'LOGCOSH','R2'])\n",
    "nnr_score"
   ]
  },
  {
   "cell_type": "markdown",
   "metadata": {},
   "source": [
    "## Random Forest Regressor\n"
   ]
  },
  {
   "cell_type": "markdown",
   "metadata": {},
   "source": [
    "### Hyper-parameter optimizer:\n",
    "\n",
    " - n_estimators The number of trees in the forest.\n",
    "\n",
    " - criterion The function to measure the quality of a split. Supported criteria are “gini” for the Gini impurity and “entropy” for the information gain.\n",
    "\n",
    " - min_samples_split : int, float, optional (default=2)\n",
    "The minimum number of samples required to split an internal node:\n",
    "\n"
   ]
  },
  {
   "cell_type": "markdown",
   "metadata": {},
   "source": [
    "### Error Calculations: MSE, MAE, Huber Loss, Log Cosh Loss, R^2"
   ]
  },
  {
   "cell_type": "code",
   "execution_count": 75,
   "metadata": {},
   "outputs": [
    {
     "data": {
      "text/html": [
       "<div>\n",
       "<style scoped>\n",
       "    .dataframe tbody tr th:only-of-type {\n",
       "        vertical-align: middle;\n",
       "    }\n",
       "\n",
       "    .dataframe tbody tr th {\n",
       "        vertical-align: top;\n",
       "    }\n",
       "\n",
       "    .dataframe thead th {\n",
       "        text-align: right;\n",
       "    }\n",
       "</style>\n",
       "<table border=\"1\" class=\"dataframe\">\n",
       "  <thead>\n",
       "    <tr style=\"text-align: right;\">\n",
       "      <th></th>\n",
       "      <th>Random Forest</th>\n",
       "    </tr>\n",
       "  </thead>\n",
       "  <tbody>\n",
       "    <tr>\n",
       "      <th>MSE</th>\n",
       "      <td>0.000063</td>\n",
       "    </tr>\n",
       "    <tr>\n",
       "      <th>MAE</th>\n",
       "      <td>0.005299</td>\n",
       "    </tr>\n",
       "    <tr>\n",
       "      <th>HUBER</th>\n",
       "      <td>0.000689</td>\n",
       "    </tr>\n",
       "    <tr>\n",
       "      <th>LOGCOSH</th>\n",
       "      <td>0.000689</td>\n",
       "    </tr>\n",
       "    <tr>\n",
       "      <th>R2</th>\n",
       "      <td>0.568482</td>\n",
       "    </tr>\n",
       "  </tbody>\n",
       "</table>\n",
       "</div>"
      ],
      "text/plain": [
       "         Random Forest\n",
       "MSE           0.000063\n",
       "MAE           0.005299\n",
       "HUBER         0.000689\n",
       "LOGCOSH       0.000689\n",
       "R2            0.568482"
      ]
     },
     "execution_count": 75,
     "metadata": {},
     "output_type": "execute_result"
    }
   ],
   "source": [
    "clf = RandomForestRegressor()\n",
    "\n",
    "param_grid = {'criterion': ['mse', 'mae'], 'n_estimators': [2,3,4,5,7,10,50,100], 'min_samples_split': range(2,15)}\n",
    "\n",
    "clf = GridSearchCV(clf, param_grid)\n",
    "\n",
    "clf.fit(X_train, y_train)\n",
    "y_pred = clf.predict(X_test)\n",
    "#Huber Loss and #Log Cosh Loss\n",
    "def huber(true, pred, delta):\n",
    "    loss = np.where(np.abs(true-pred) < delta , 0.5*((true-pred)**2), delta*np.abs(true - pred) - 0.5*(delta**2))\n",
    "    return np.sum(loss)\n",
    "\n",
    "def logcosh(true, pred):\n",
    "    loss = np.log(np.cosh(pred - true))\n",
    "    return np.sum(loss)\n",
    "\n",
    "rfr_score=pd.DataFrame({'Random Forest': [mean_squared_error(y_pred, y_test)\n",
    "          , mean_absolute_error(y_pred, y_test)\n",
    "          , huber(y_pred, y_test,1)\n",
    "          , logcosh(y_pred, y_test)\n",
    "          , r2_score(y_pred, y_test)]},index=['MSE','MAE', 'HUBER', 'LOGCOSH','R2'])\n",
    "rfr_score"
   ]
  },
  {
   "cell_type": "markdown",
   "metadata": {},
   "source": [
    "## Gaussian Process Regressor\n"
   ]
  },
  {
   "cell_type": "markdown",
   "metadata": {},
   "source": [
    "### Hyper-parameter optimizer:\n",
    "\n",
    " - n_estimators The number of trees in the forest.\n",
    "\n",
    " - criterion The function to measure the quality of a split. Supported criteria are “gini” for the Gini impurity and “entropy” for the information gain.\n",
    "\n",
    " - min_samples_split : int, float, optional (default=2)\n",
    "The minimum number of samples required to split an internal node:\n",
    "\n"
   ]
  },
  {
   "cell_type": "markdown",
   "metadata": {},
   "source": [
    "### Error Calculations: MSE, MAE, Huber Loss, Log Cosh Loss, R^2"
   ]
  },
  {
   "cell_type": "code",
   "execution_count": 76,
   "metadata": {},
   "outputs": [
    {
     "data": {
      "text/html": [
       "<div>\n",
       "<style scoped>\n",
       "    .dataframe tbody tr th:only-of-type {\n",
       "        vertical-align: middle;\n",
       "    }\n",
       "\n",
       "    .dataframe tbody tr th {\n",
       "        vertical-align: top;\n",
       "    }\n",
       "\n",
       "    .dataframe thead th {\n",
       "        text-align: right;\n",
       "    }\n",
       "</style>\n",
       "<table border=\"1\" class=\"dataframe\">\n",
       "  <thead>\n",
       "    <tr style=\"text-align: right;\">\n",
       "      <th></th>\n",
       "      <th>GPR</th>\n",
       "    </tr>\n",
       "  </thead>\n",
       "  <tbody>\n",
       "    <tr>\n",
       "      <th>MSE</th>\n",
       "      <td>0.000058</td>\n",
       "    </tr>\n",
       "    <tr>\n",
       "      <th>MAE</th>\n",
       "      <td>0.006039</td>\n",
       "    </tr>\n",
       "    <tr>\n",
       "      <th>HUBER</th>\n",
       "      <td>0.000635</td>\n",
       "    </tr>\n",
       "    <tr>\n",
       "      <th>LOGCOSH</th>\n",
       "      <td>0.000635</td>\n",
       "    </tr>\n",
       "    <tr>\n",
       "      <th>R2</th>\n",
       "      <td>0.503285</td>\n",
       "    </tr>\n",
       "  </tbody>\n",
       "</table>\n",
       "</div>"
      ],
      "text/plain": [
       "              GPR\n",
       "MSE      0.000058\n",
       "MAE      0.006039\n",
       "HUBER    0.000635\n",
       "LOGCOSH  0.000635\n",
       "R2       0.503285"
      ]
     },
     "execution_count": 76,
     "metadata": {},
     "output_type": "execute_result"
    }
   ],
   "source": [
    "clf = GaussianProcessRegressor()\n",
    "\n",
    "clf.fit(X_train, y_train)\n",
    "y_pred = clf.predict(X_test)\n",
    "#Huber Loss and #Log Cosh Loss\n",
    "def huber(true, pred, delta):\n",
    "    loss = np.where(np.abs(true-pred) < delta , 0.5*((true-pred)**2), delta*np.abs(true - pred) - 0.5*(delta**2))\n",
    "    return np.sum(loss)\n",
    "\n",
    "def logcosh(true, pred):\n",
    "    loss = np.log(np.cosh(pred - true))\n",
    "    return np.sum(loss)\n",
    "\n",
    "gpr_score=pd.DataFrame({'GPR': [mean_squared_error(y_pred, y_test)\n",
    "          , mean_absolute_error(y_pred, y_test)\n",
    "          , huber(y_pred, y_test,1)\n",
    "          , logcosh(y_pred, y_test)\n",
    "          , r2_score(y_pred, y_test)]},index=['MSE','MAE', 'HUBER', 'LOGCOSH','R2'])\n",
    "gpr_score"
   ]
  },
  {
   "cell_type": "code",
   "execution_count": 77,
   "metadata": {},
   "outputs": [
    {
     "data": {
      "text/html": [
       "<div>\n",
       "<style scoped>\n",
       "    .dataframe tbody tr th:only-of-type {\n",
       "        vertical-align: middle;\n",
       "    }\n",
       "\n",
       "    .dataframe tbody tr th {\n",
       "        vertical-align: top;\n",
       "    }\n",
       "\n",
       "    .dataframe thead th {\n",
       "        text-align: right;\n",
       "    }\n",
       "</style>\n",
       "<table border=\"1\" class=\"dataframe\">\n",
       "  <thead>\n",
       "    <tr style=\"text-align: right;\">\n",
       "      <th></th>\n",
       "      <th>Linear</th>\n",
       "      <th>Standard Vector</th>\n",
       "      <th>Ridge</th>\n",
       "      <th>Lasso</th>\n",
       "      <th>K Nearest</th>\n",
       "      <th>Random Forest</th>\n",
       "      <th>GPR</th>\n",
       "    </tr>\n",
       "  </thead>\n",
       "  <tbody>\n",
       "    <tr>\n",
       "      <th>MSE</th>\n",
       "      <td>0.000051</td>\n",
       "      <td>1.569381e-04</td>\n",
       "      <td>0.000079</td>\n",
       "      <td>0.000148</td>\n",
       "      <td>0.000054</td>\n",
       "      <td>0.000063</td>\n",
       "      <td>0.000058</td>\n",
       "    </tr>\n",
       "    <tr>\n",
       "      <th>MAE</th>\n",
       "      <td>0.005819</td>\n",
       "      <td>1.146103e-02</td>\n",
       "      <td>0.007362</td>\n",
       "      <td>0.010451</td>\n",
       "      <td>0.005170</td>\n",
       "      <td>0.005299</td>\n",
       "      <td>0.006039</td>\n",
       "    </tr>\n",
       "    <tr>\n",
       "      <th>HUBER</th>\n",
       "      <td>0.000561</td>\n",
       "      <td>1.726319e-03</td>\n",
       "      <td>0.000866</td>\n",
       "      <td>0.001628</td>\n",
       "      <td>0.000592</td>\n",
       "      <td>0.000689</td>\n",
       "      <td>0.000635</td>\n",
       "    </tr>\n",
       "    <tr>\n",
       "      <th>LOGCOSH</th>\n",
       "      <td>0.000561</td>\n",
       "      <td>1.726247e-03</td>\n",
       "      <td>0.000866</td>\n",
       "      <td>0.001628</td>\n",
       "      <td>0.000592</td>\n",
       "      <td>0.000689</td>\n",
       "      <td>0.000635</td>\n",
       "    </tr>\n",
       "    <tr>\n",
       "      <th>R2</th>\n",
       "      <td>0.655919</td>\n",
       "      <td>-2.037173e+29</td>\n",
       "      <td>-3.634252</td>\n",
       "      <td>0.000000</td>\n",
       "      <td>0.486203</td>\n",
       "      <td>0.568482</td>\n",
       "      <td>0.503285</td>\n",
       "    </tr>\n",
       "  </tbody>\n",
       "</table>\n",
       "</div>"
      ],
      "text/plain": [
       "           Linear  Standard Vector     Ridge     Lasso  K Nearest  \\\n",
       "MSE      0.000051     1.569381e-04  0.000079  0.000148   0.000054   \n",
       "MAE      0.005819     1.146103e-02  0.007362  0.010451   0.005170   \n",
       "HUBER    0.000561     1.726319e-03  0.000866  0.001628   0.000592   \n",
       "LOGCOSH  0.000561     1.726247e-03  0.000866  0.001628   0.000592   \n",
       "R2       0.655919    -2.037173e+29 -3.634252  0.000000   0.486203   \n",
       "\n",
       "         Random Forest       GPR  \n",
       "MSE           0.000063  0.000058  \n",
       "MAE           0.005299  0.006039  \n",
       "HUBER         0.000689  0.000635  \n",
       "LOGCOSH       0.000689  0.000635  \n",
       "R2            0.568482  0.503285  "
      ]
     },
     "execution_count": 77,
     "metadata": {},
     "output_type": "execute_result"
    }
   ],
   "source": [
    "regs_df=pd.concat([linr_score,svr_score,ridge_score, lasso_score, nnr_score, rfr_score, gpr_score],axis=1)\n",
    "regs_df"
   ]
  },
  {
   "cell_type": "code",
   "execution_count": 89,
   "metadata": {},
   "outputs": [
    {
     "data": {
      "text/plain": [
       "<function matplotlib.pyplot.show(*args, **kw)>"
      ]
     },
     "execution_count": 89,
     "metadata": {},
     "output_type": "execute_result"
    },
    {
     "data": {
      "image/png": "[encoded data removed]",
      "text/plain": [
       "<Figure size 432x288 with 1 Axes>"
      ]
     },
     "metadata": {
      "needs_background": "light"
     },
     "output_type": "display_data"
    },
    {
     "data": {
      "image/png": "[encoded data removed]",
      "text/plain": [
       "<Figure size 432x288 with 1 Axes>"
      ]
     },
     "metadata": {
      "needs_background": "light"
     },
     "output_type": "display_data"
    },
    {
     "data": {
      "image/png": "[encoded data removed]",
      "text/plain": [
       "<Figure size 432x288 with 1 Axes>"
      ]
     },
     "metadata": {
      "needs_background": "light"
     },
     "output_type": "display_data"
    },
    {
     "data": {
      "image/png": "[encoded data removed]",
      "text/plain": [
       "<Figure size 432x288 with 1 Axes>"
      ]
     },
     "metadata": {
      "needs_background": "light"
     },
     "output_type": "display_data"
    }
   ],
   "source": [
    "plt.figure(1)\n",
    "plt.bar(clfs_df.columns,clfs_df.iloc[0])\n",
    "\n",
    "plt.figure(2)\n",
    "plt.bar(clfs_df.columns,clfs_df.iloc[1])\n",
    "\n",
    "plt.figure(3)\n",
    "plt.bar(clfs_df.columns,clfs_df.iloc[2])\n",
    "\n",
    "plt.figure(4)\n",
    "plt.bar(clfs_df.columns,clfs_df.iloc[3])\n",
    "\n",
    "plt.show\n"
   ]
  },
  {
   "cell_type": "code",
   "execution_count": null,
   "metadata": {},
   "outputs": [],
   "source": []
  }
 ],
 "metadata": {
  "kernelspec": {
   "display_name": "Python 3",
   "language": "python",
   "name": "python3"
  },
  "language_info": {
   "codemirror_mode": {
    "name": "ipython",
    "version": 3
   },
   "file_extension": ".py",
   "mimetype": "text/x-python",
   "name": "python",
   "nbconvert_exporter": "python",
   "pygments_lexer": "ipython3",
   "version": "3.7.0"
  }
 },
 "nbformat": 4,
 "nbformat_minor": 2
}
